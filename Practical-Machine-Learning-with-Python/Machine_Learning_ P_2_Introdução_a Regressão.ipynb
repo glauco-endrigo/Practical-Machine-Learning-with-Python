{
 "cells": [
  {
   "cell_type": "markdown",
   "metadata": {},
   "source": [
    "#  Practical Machine Learning with Python from  the youtube channel sentdex <br />\n",
    "\n",
    "\"The goal is to break it down so much that it is panfully simple \"\n",
    "\n",
    "\n",
    "#### Episode:\n",
    "\n",
    "\n",
    "* [Introdução a Regressão- Tutorial Prático de Machine Learning p.2:](https://www.youtube.com/watch?v=JcI5Vnw0b2c&list=PLQVvvaa0QuDfKTOs3Keq_kaG2P55YRn5v&index=2)\n"
   ]
  },
  {
   "cell_type": "markdown",
   "metadata": {},
   "source": [
    "#### Objective: \n",
    "\n",
    "Learn about Practical Machine Learning with Python from Scratch with Python .\n",
    "\n"
   ]
  },
  {
   "cell_type": "markdown",
   "metadata": {},
   "source": [
    "#### Introduction: \n",
    "The purpuse is to know how Machine Learning works at a very deep level, because trying to solve more complex problems is gonna require a deep understand of how things actually work.\n",
    "We are gonna be doing this buy covering a variety of algorithms, so first we are gonna be covering regression when we are going to be movingitno classification with knearst-neighbors and support vector machines and then we are going to get into clustering with flat clustering, hierarchical clustering and then finally we will be getting  into deep learning with neural networks \n",
    "\n",
    "In each of the major algorithms, we are gonna cover theory, aplicattion and then we are gonna dive in deep into the inner workings of each of them"
   ]
  },
  {
   "cell_type": "markdown",
   "metadata": {},
   "source": [
    "#### Introdução a Regressão\n",
    "\n",
    "The idea of simple liner regression is to take continuous data and figure out a best fit line to that data "
   ]
  },
  {
   "cell_type": "code",
   "execution_count": 54,
   "metadata": {},
   "outputs": [],
   "source": [
    "import pandas as pd\n",
    "import quandl,math,datetime\n",
    "import numpy as np \n",
    "from sklearn.model_selection import cross_validate\n",
    "from  sklearn import preprocessing, svm\n",
    "from  sklearn.linear_model import LinearRegression \n",
    "import math\n",
    "from sklearn.model_selection import train_test_split\n",
    "import matplotlib.pyplot as plt \n",
    "from matplotlib import style \n",
    "style.use('ggplot')\n",
    "import datetime \n",
    "import pickle"
   ]
  },
  {
   "cell_type": "code",
   "execution_count": 4,
   "metadata": {},
   "outputs": [],
   "source": [
    "df = quandl.get('WIKI/GOOGL')"
   ]
  },
  {
   "cell_type": "code",
   "execution_count": 5,
   "metadata": {},
   "outputs": [],
   "source": [
    "df = df[['Adj. Open', 'Adj. High', 'Adj. Low', 'Adj. Close','Adj. Volume']]\n",
    "df['HL_PCT']= (df['Adj. High']-df['Adj. Low'])/ df['Adj. Low'] \n",
    "df['PCT_change'] =(df['Adj. Close']-df['Adj. Open'])/ df['Adj. Open'] \n",
    "df=df[['Adj. Close','HL_PCT','PCT_change','Adj. Volume']]"
   ]
  },
  {
   "cell_type": "markdown",
   "metadata": {},
   "source": [
    "#### Features and Labels :"
   ]
  },
  {
   "cell_type": "code",
   "execution_count": 51,
   "metadata": {},
   "outputs": [],
   "source": [
    "forecast_col ='Adj. Close'\n",
    "\n",
    "df.fillna(-99999, inplace =True)\n",
    "forecast_out = int(math.ceil(0.01*len(df)))\n",
    "df['label']  = df[forecast_col].shift(-forecast_out)\n",
    "df=df.dropna()"
   ]
  },
  {
   "cell_type": "markdown",
   "metadata": {},
   "source": [
    "#### Regression Training and Testing"
   ]
  },
  {
   "cell_type": "code",
   "execution_count": 28,
   "metadata": {},
   "outputs": [],
   "source": [
    "X = np.array(df.drop(['label'],1))\n",
    "X = preprocessing.scale(X)\n",
    "X = X[:-forecast_out]\n",
    "X_lately = X[-forecast_out:]\n",
    "\n",
    "y = np.array(df['label'])\n",
    "y = y[:-forecast_out]"
   ]
  },
  {
   "cell_type": "code",
   "execution_count": 30,
   "metadata": {},
   "outputs": [],
   "source": [
    "X_train, X_test, y_train,y_test =train_test_split(X,y,test_size=0.2)"
   ]
  },
  {
   "cell_type": "code",
   "execution_count": 52,
   "metadata": {},
   "outputs": [
    {
     "data": {
      "text/plain": [
       "LinearRegression(copy_X=True, fit_intercept=True, n_jobs=None, normalize=False)"
      ]
     },
     "execution_count": 52,
     "metadata": {},
     "output_type": "execute_result"
    }
   ],
   "source": [
    "clf = LinearRegression()\n",
    "clf.fit(X_train,y_train)"
   ]
  },
  {
   "cell_type": "markdown",
   "metadata": {},
   "source": [
    "#### Pickling:"
   ]
  },
  {
   "cell_type": "code",
   "execution_count": 56,
   "metadata": {},
   "outputs": [],
   "source": [
    "#with open('linearregression.pickle','wb') as f:\n",
    "    #pickle.dump(clf,f)\n",
    "pickle_in = open('linearregression.pickle','rb')\n",
    "clf = pickle.load(pickle_in)"
   ]
  },
  {
   "cell_type": "code",
   "execution_count": null,
   "metadata": {},
   "outputs": [],
   "source": [
    "accuracy  = clf.score(X_test,y_test)"
   ]
  },
  {
   "cell_type": "markdown",
   "metadata": {},
   "source": [
    "#### Regression forecasting and predicting:"
   ]
  },
  {
   "cell_type": "code",
   "execution_count": 33,
   "metadata": {},
   "outputs": [],
   "source": [
    "forecast_set =clf.predict(X_lately)\n",
    "print(forecast_set, accuracy, forecast_out)"
   ]
  },
  {
   "cell_type": "code",
   "execution_count": 50,
   "metadata": {},
   "outputs": [],
   "source": [
    "df['Forecast'] = np.nan"
   ]
  },
  {
   "cell_type": "code",
   "execution_count": 49,
   "metadata": {},
   "outputs": [
    {
     "data": {
      "image/png": "[encoded data removed]",
      "text/plain": [
       "<Figure size 432x288 with 1 Axes>"
      ]
     },
     "metadata": {
      "needs_background": "light"
     },
     "output_type": "display_data"
    }
   ],
   "source": [
    "last_date =df.iloc[-1].name\n",
    "last_unix =last_date.timestamp()\n",
    "onde_day = 86400\n",
    "next_unix = last_unix + onde_day\n",
    "\n",
    "for i in forecast_set:\n",
    "    next_date =datetime.datetime.fromtimestamp(next_unix)\n",
    "    next_unix += onde_day\n",
    "    df.loc[ next_date ] = [np.nan for _ in range(len(df.columns)-1)] + [i]\n",
    "\n",
    "df['Adj. Close'].plot()\n",
    "df['Forecast'].plot()\n",
    "plt.legend(loc=4)\n",
    "plt.xlabel('Data')\n",
    "plt.ylabel('Price')\n",
    "plt.show()"
   ]
  },
  {
   "cell_type": "code",
   "execution_count": null,
   "metadata": {},
   "outputs": [],
   "source": []
  }
 ],
 "metadata": {
  "kernelspec": {
   "display_name": "Python 3",
   "language": "python",
   "name": "python3"
  },
  "language_info": {
   "codemirror_mode": {
    "name": "ipython",
    "version": 3
   },
   "file_extension": ".py",
   "mimetype": "text/x-python",
   "name": "python",
   "nbconvert_exporter": "python",
   "pygments_lexer": "ipython3",
   "version": "3.7.4"
  }
 },
 "nbformat": 4,
 "nbformat_minor": 2
}
