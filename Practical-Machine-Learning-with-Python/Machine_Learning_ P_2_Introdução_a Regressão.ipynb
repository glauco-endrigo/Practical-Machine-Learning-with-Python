{
 "cells": [
  {
   "cell_type": "markdown",
   "metadata": {},
   "source": [
    "#  Practical Machine Learning with Python from  the youtube channel sentdex <br />\n",
    "\n",
    "\"The goal is to break it down so much that it is panfully simple \"\n",
    "\n",
    "\n",
    "#### Episode:\n",
    "\n",
    "\n",
    "* [Introdução a Regressão- Tutorial Prático de Machine Learning p.2:](https://www.youtube.com/watch?v=JcI5Vnw0b2c&list=PLQVvvaa0QuDfKTOs3Keq_kaG2P55YRn5v&index=2)\n"
   ]
  },
  {
   "cell_type": "markdown",
   "metadata": {},
   "source": [
    "#### Objective: \n",
    "\n",
    "Learn about Practical Machine Learning with Python from Scratch with Python .\n",
    "\n"
   ]
  },
  {
   "cell_type": "markdown",
   "metadata": {},
   "source": [
    "#### Introduction: \n",
    "The purpuse is to know how Machine Learning works at a very deep level, because trying to solve more complex problems is gonna require a deep understand of how things actually work."
   ]
  },
  {
   "cell_type": "markdown",
   "metadata": {},
   "source": [
    "#### Introdução a Regressão\n",
    "\n",
    "The idea of simple liner regression is to take continuous data and figure out a best fit line to that data "
   ]
  },
  {
   "cell_type": "code",
   "execution_count": 8,
   "metadata": {},
   "outputs": [
    {
     "name": "stdout",
     "output_type": "stream",
     "text": [
      "<bound method NDFrame.head of              Adj. Close    HL_PCT  PCT_change  Adj. Volume\n",
      "Date                                                      \n",
      "2004-08-19    50.322842  0.084410    0.003250   44659000.0\n",
      "2004-08-20    54.322689  0.085373    0.072270   22834300.0\n",
      "2004-08-23    54.869377  0.040624   -0.012279   18256100.0\n",
      "2004-08-24    52.597363  0.077532   -0.057264   15247300.0\n",
      "2004-08-25    53.164113  0.039661    0.011837    9188600.0\n",
      "...                 ...       ...         ...          ...\n",
      "2018-03-21  1094.000000  0.019766    0.001309    1990515.0\n",
      "2018-03-22  1053.150000  0.032659   -0.024870    3418154.0\n",
      "2018-03-23  1026.550000  0.040893   -0.023607    2413517.0\n",
      "2018-03-26  1054.090000  0.048180    0.003322    3272409.0\n",
      "2018-03-27  1006.940000  0.067080   -0.053539    2940957.0\n",
      "\n",
      "[3424 rows x 4 columns]>\n"
     ]
    }
   ],
   "source": [
    "import pandas as pd\n",
    "import quandl\n",
    "\n",
    "df = quandl.get('WIKI/GOOGL')\n",
    "df = df[['Adj. Open', 'Adj. High', 'Adj. Low', 'Adj. Close','Adj. Volume']]\n",
    "\n",
    "df['HL_PCT']= (df['Adj. High']-df['Adj. Low'])/ df['Adj. Low'] \n",
    "df['PCT_change'] =(df['Adj. Close']-df['Adj. Open'])/ df['Adj. Open'] \n",
    "\n",
    "df=df[['Adj. Close','HL_PCT','PCT_change','Adj. Volume']]\n",
    "\n",
    "print(df.head)\n",
    "\n",
    "\n",
    "\n",
    "\n",
    " "
   ]
  },
  {
   "cell_type": "code",
   "execution_count": null,
   "metadata": {},
   "outputs": [],
   "source": []
  }
 ],
 "metadata": {
  "kernelspec": {
   "display_name": "Python 3",
   "language": "python",
   "name": "python3"
  },
  "language_info": {
   "codemirror_mode": {
    "name": "ipython",
    "version": 3
   },
   "file_extension": ".py",
   "mimetype": "text/x-python",
   "name": "python",
   "nbconvert_exporter": "python",
   "pygments_lexer": "ipython3",
   "version": "3.7.4"
  }
 },
 "nbformat": 4,
 "nbformat_minor": 2
}
