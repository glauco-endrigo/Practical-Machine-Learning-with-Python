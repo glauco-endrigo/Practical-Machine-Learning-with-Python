{
 "cells": [
  {
   "cell_type": "markdown",
   "metadata": {},
   "source": [
    "#  Practical Machine Learning with Python from  the youtube channel sentdex <br />\n",
    "\n",
    "\"The goal is to break it down so much that it is panfully simple \"\n",
    "\n",
    "\n",
    "#### Episode:\n",
    "\n",
    "\n",
    "* [Regression How it Works- Tutorial Prático de Machine Learning p.7:](https://www.youtube.com/watch?v=V59bYfIomVk&list=PLQVvvaa0QuDfKTOs3Keq_kaG2P55YRn5v&index=7)\n"
   ]
  },
  {
   "cell_type": "markdown",
   "metadata": {},
   "source": [
    "#### Objective: \n",
    "\n",
    "Learn about Practical Machine Learning with Python from Scratch with Python .\n",
    "\n"
   ]
  },
  {
   "cell_type": "markdown",
   "metadata": {},
   "source": [
    "#### Introduction: \n",
    "The purpuse is to know how Machine Learning works at a very deep level, because trying to solve more complex problems is gonna require a deep understand of how things actually work.\n",
    "We are gonna be doing this buy covering a variety of algorithms, so first we are gonna be covering regression when we are going to be movingitno classification with knearst-neighbors and support vector machines and then we are going to get into clustering with flat clustering, hierarchical clustering and then finally we will be getting  into deep learning with neural networks \n",
    "\n",
    "In each of the major algorithms, we are gonna cover theory, aplicattion and then we are gonna dive in deep into the inner workings of each of them"
   ]
  },
  {
   "cell_type": "markdown",
   "metadata": {},
   "source": [
    "#### Regression How it Works:\n",
    "* R Squared Theory \n",
    "* Best Fit Slope\n",
    "* Testing Assumptions"
   ]
  },
  {
   "cell_type": "code",
   "execution_count": 20,
   "metadata": {},
   "outputs": [],
   "source": [
    "from statistics import mean \n",
    "import numpy as np\n",
    "import matplotlib.pyplot as plt \n",
    "from matplotlib import style \n",
    "import random \n",
    "style.use('fivethirtyeight')\n",
    "\n",
    "#xs =np.array([1,2,3,4,5,6], dtype =np.float64)\n",
    "#ys =np.array([5,4,6,5,6,7], dtype =np.float64)"
   ]
  },
  {
   "cell_type": "code",
   "execution_count": 1,
   "metadata": {},
   "outputs": [],
   "source": [
    "def create_dataset(hm,varience, step = 2, corretalion = False ):\n",
    "        val = 1\n",
    "        ys = []\n",
    "        \n",
    "        for i in range(hm):\n",
    "            y = val + random.randrange(-varience,varience)\n",
    "            ys.append(y)\n",
    "            if corretalion and corretalion == 'pos':\n",
    "                val += step\n",
    "            elif corretalion and corretalion == 'neg':\n",
    "                val -= step\n",
    "        xs = [i for i in range(len(ys))]\n",
    "            \n",
    "\n",
    "        return np.array(xs,dtype = np.float64), np.array(ys,dtype = np.float64)"
   ]
  },
  {
   "cell_type": "code",
   "execution_count": 21,
   "metadata": {},
   "outputs": [],
   "source": [
    "def best_fit_slop_and_intercept(xs,ys):\n",
    "    m = ( \n",
    "        (  (mean(xs)*mean(ys))  - (mean(xs*ys))     ) /\n",
    "        (  (mean(xs)**2)        - (mean(xs**2))     )\n",
    "        )\n",
    "    b = mean(ys) - m*mean(xs)\n",
    "    return m,b"
   ]
  },
  {
   "cell_type": "code",
   "execution_count": 22,
   "metadata": {},
   "outputs": [],
   "source": [
    "def squared_error(ys_orig, ys_line): # we want the square_error to be high \n",
    "    return sum((ys_line-ys_orig)**2)"
   ]
  },
  {
   "cell_type": "code",
   "execution_count": 30,
   "metadata": {},
   "outputs": [],
   "source": [
    "def coefficient_of_determination(ys_line, ys_orig):\n",
    "    y_mean_line = [mean(ys_orig) for y  in  ys_orig]\n",
    "    y_mean_line =np.array(y_mean_line, dtype =np.float64)\n",
    "    squared_error_regr   = squared_error(ys_orig, ys_line)\n",
    "    squared_error_y_mean = squared_error(ys_orig, y_mean_line)\n",
    "    return 1 -(squared_error_regr/squared_error_y_mean)"
   ]
  },
  {
   "cell_type": "code",
   "execution_count": 31,
   "metadata": {},
   "outputs": [
    {
     "name": "stdout",
     "output_type": "stream",
     "text": [
      "0.42857142857142866 4.0\n",
      "[4.428571428571429, 4.857142857142858, 5.2857142857142865, 5.714285714285714, 6.142857142857143, 6.571428571428572]\n",
      "0.2888888888888892\n"
     ]
    }
   ],
   "source": [
    "xs, ys = create_dataset(40,40, 2, corretalion ='pos'):\n",
    "\n",
    "m,b = best_fit_slop_and_intercept(xs,ys)\n",
    "print(m,b)\n",
    "\n",
    "regression_line = [(m*x)+b for x in xs]\n",
    "print (regression_line)\n",
    "    \n",
    "predict_x = 8\n",
    "predict_y = (m*predict_x) + b\n",
    "\n",
    "r_squared = coefficient_of_determination(ys, regression_line)\n",
    "print(r_squared)"
   ]
  },
  {
   "cell_type": "code",
   "execution_count": null,
   "metadata": {},
   "outputs": [],
   "source": [
    "plt.scatter(xs,ys)\n",
    "plt.scatter(predict_x,predict_y,color ='g')\n",
    "plt.plot(xs,regression_line)\n",
    "\n",
    "plt.show()"
   ]
  },
  {
   "cell_type": "code",
   "execution_count": 3,
   "metadata": {},
   "outputs": [
    {
     "name": "stdout",
     "output_type": "stream",
     "text": [
      "3\n"
     ]
    }
   ],
   "source": []
  },
  {
   "cell_type": "code",
   "execution_count": null,
   "metadata": {},
   "outputs": [],
   "source": []
  }
 ],
 "metadata": {
  "kernelspec": {
   "display_name": "Python 3",
   "language": "python",
   "name": "python3"
  },
  "language_info": {
   "codemirror_mode": {
    "name": "ipython",
    "version": 3
   },
   "file_extension": ".py",
   "mimetype": "text/x-python",
   "name": "python",
   "nbconvert_exporter": "python",
   "pygments_lexer": "ipython3",
   "version": "3.7.4"
  }
 },
 "nbformat": 4,
 "nbformat_minor": 2
}
