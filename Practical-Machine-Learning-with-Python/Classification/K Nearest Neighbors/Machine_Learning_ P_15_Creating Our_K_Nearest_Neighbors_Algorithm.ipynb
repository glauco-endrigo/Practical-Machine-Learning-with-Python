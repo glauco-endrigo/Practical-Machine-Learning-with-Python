{
 "cells": [
  {
   "cell_type": "markdown",
   "metadata": {},
   "source": [
    "#  Practical Machine Learning with Python from  the youtube channel sentdex <br />\n",
    "\n",
    "\"The goal is to break it down so much that it is panfully simple \"\n",
    "\n",
    "\n",
    "#### Episode:\n",
    "\n",
    "\n",
    "* [K Nearest Neighbors - Creating Our K Nearest Neighbors Algorithm p.16:](https://www.youtube.com/watch?v=n3RqsMz3-0A&list=PLQVvvaa0QuDfKTOs3Keq_kaG2P55YRn5v&index=16)\n"
   ]
  },
  {
   "cell_type": "markdown",
   "metadata": {},
   "source": [
    "#### Objective: \n",
    "\n",
    "Learn about Practical Machine Learning with Python from Scratch with Python .\n",
    "\n"
   ]
  },
  {
   "cell_type": "markdown",
   "metadata": {},
   "source": [
    "#### Introduction: \n",
    "The purpuse is to know how Machine Learning works at a very deep level, because trying to solve more complex problems is gonna require a deep understand of how things actually work.\n",
    "We are gonna be doing this buy covering a variety of algorithms, so first we are gonna be covering regression when we are going to be movingitno classification with knearst-neighbors and support vector machines and then we are going to get into clustering with flat clustering, hierarchical clustering and then finally we will be getting  into deep learning with neural networks \n",
    "\n",
    "In each of the major algorithms, we are gonna cover theory, aplicattion and then we are gonna dive in deep into the inner workings of each of them"
   ]
  },
  {
   "cell_type": "markdown",
   "metadata": {},
   "source": [
    "####  K Nearest Neighbors \n",
    "\n",
    "\n",
    "The basic  idea of  K Nearest Neighbors is to classify things based on proximity"
   ]
  },
  {
   "cell_type": "code",
   "execution_count": null,
   "metadata": {},
   "outputs": [],
   "source": [
    "import numpy as np \n",
    "from math import sqrt \n",
    "import matplotlib.pyplot as plt \n",
    "import warnings # if the mess up  the  k \n",
    "from matplotlib import style \n",
    "from collections import Counter \n",
    "style.use('fivethirtyeight')\n",
    "\n",
    "data_set = {'k':[[1,2],[2,3],[3,1]], 'r':[[6,5],[7,7],[8,6]]}\n",
    "new_features = [5,7]\n",
    "\n",
    "def k_nearest_neighbors(data, predict, k = 3 ):\n",
    "    if len(data) >= k:\n",
    "        warning.warn('K is set to a value less than total voting groups!')\n",
    "    knnalgos \n",
    "    return vote_result \n",
    "\n",
    "#[[plt.scatter(ii[0], ii[1], s = 100, color=i) for ii in data_set[i]] for i in data_set]\n",
    "#plt.scatter(new_features[0],new_features[1])\n",
    "#plt.show"
   ]
  },
  {
   "cell_type": "code",
   "execution_count": null,
   "metadata": {},
   "outputs": [],
   "source": []
  }
 ],
 "metadata": {
  "kernelspec": {
   "display_name": "Python 3",
   "language": "python",
   "name": "python3"
  },
  "language_info": {
   "codemirror_mode": {
    "name": "ipython",
    "version": 3
   },
   "file_extension": ".py",
   "mimetype": "text/x-python",
   "name": "python",
   "nbconvert_exporter": "python",
   "pygments_lexer": "ipython3",
   "version": "3.7.4"
  }
 },
 "nbformat": 4,
 "nbformat_minor": 2
}
