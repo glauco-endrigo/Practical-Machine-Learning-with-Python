{
 "cells": [
  {
   "cell_type": "markdown",
   "metadata": {},
   "source": [
    "#  Practical Machine Learning with Python from  the youtube channel sentdex <br />\n",
    "\n",
    "\"The goal is to break it down so much that it is panfully simple \"\n",
    "\n",
    "\n",
    "#### Episode:\n",
    "\n",
    "\n",
    "* [K Nearest Neighbors - Applying our K Nearest Neighbors Algorithm p.18:](https://www.youtube.com/watch?v=3XPhmnf96s0&list=PLQVvvaa0QuDfKTOs3Keq_kaG2P55YRn5v&index=18)\n"
   ]
  },
  {
   "cell_type": "markdown",
   "metadata": {},
   "source": [
    "#### Objective: \n",
    "\n",
    "Learn about Practical Machine Learning with Python from Scratch with Python .\n",
    "\n"
   ]
  },
  {
   "cell_type": "markdown",
   "metadata": {},
   "source": [
    "#### Introduction: \n",
    "The purpuse is to know how Machine Learning works at a very deep level, because trying to solve more complex problems is gonna require a deep understand of how things actually work.\n",
    "We are gonna be doing this buy covering a variety of algorithms, so first we are gonna be covering regression when we are going to be movingitno classification with knearst-neighbors and support vector machines and then we are going to get into clustering with flat clustering, hierarchical clustering and then finally we will be getting  into deep learning with neural networks \n",
    "\n",
    "In each of the major algorithms, we are gonna cover theory, aplicattion and then we are gonna dive in deep into the inner workings of each of them"
   ]
  },
  {
   "cell_type": "markdown",
   "metadata": {},
   "source": [
    "####  K Nearest Neighbors \n",
    "\n",
    "\n",
    "The basic  idea of  K Nearest Neighbors is to classify things based on proximity"
   ]
  },
  {
   "cell_type": "code",
   "execution_count": 71,
   "metadata": {},
   "outputs": [
    {
     "name": "stdout",
     "output_type": "stream",
     "text": [
      "Accuracy: 0.9784172661870504 uhhuu! Look at us\n"
     ]
    }
   ],
   "source": [
    "import numpy as np \n",
    "import pandas as pd\n",
    "from math import sqrt \n",
    "import warnings # if the mess up  the  k \n",
    "from collections import Counter \n",
    "import random \n",
    "\n",
    "def k_nearest_neighbors(data, predict, k = 3 ):\n",
    "    if len(data) >= k:\n",
    "        warning.warn('K is set to a value less than total voting groups!')\n",
    "   \n",
    "    # We have to compare a data point to all the others data points, here lies the problem !\n",
    "    distances =[]\n",
    "    for group in data: # for each \"class\" basically\n",
    "        for features in data[group]:\n",
    "            euclidean_distance = np.linalg.norm(np.array(features)- np.array(predict))\n",
    "            distances.append([euclidean_distance, group])\n",
    "            \n",
    "    votes = [ i[1] for i in sorted(distances)[:k]]\n",
    "    vote_result = (Counter(votes).most_common(1)[0][0])\n",
    "    \n",
    "    \n",
    "    return vote_result\n",
    "\n",
    "df = pd.read_csv('breast-cancer-wisconsin.data')\n",
    "df.replace(\"?\",-99999, inplace = True) \n",
    "df.drop(['id'],1, inplace = True )\n",
    "df.head()\n",
    "full_data = df.astype(float).values.tolist()# so that we can shuffle\n",
    "random.shuffle(full_data)# we dont need to redefine the varible\n",
    "#print(full_data[:5])\n",
    "#print(20*'-')\n",
    "\n",
    "test_size = 0.2 \n",
    "train_set = {2:[],4:[]}\n",
    "test_set  = {2:[],4:[]}\n",
    "\n",
    "train_data = full_data[:-int(test_size*len(full_data))]\n",
    "test_data  = full_data[-int(test_size*len(full_data)):] # the last 20% of the data\n",
    "\n",
    "# print(train_data)\n",
    "# print(70*'-')\n",
    "# print(test_data)\n",
    "\n",
    "# for i in train_data:\n",
    "#     train_set[i[-1]].append(i[:-1])\n",
    "    \n",
    "# for i in test_data:\n",
    "#     test_set[i[-1]].append(i[:-1])\n",
    "\n",
    "correct =0 \n",
    "total=0 \n",
    "\n",
    "[train_set[i[-1]].append(i[:-1]) for i in train_data] \n",
    "[test_set[i[-1]].append(i[:-1]) for i in test_data] \n",
    "\n",
    "for group in test_set:\n",
    "    for data in test_set[group]:\n",
    "        vote = k_nearest_neighbors(train_set, data, k = 5 )\n",
    "        if group == vote: \n",
    "            correct +=1 \n",
    "        total +=1 \n",
    "print('Accuracy:', correct/total,'uhhuu! Look at us')\n",
    "    \n",
    "        "
   ]
  },
  {
   "cell_type": "markdown",
   "metadata": {},
   "source": [
    "Now we are gonna compare this to scikit-learn, and then also we are going to calculate confidence."
   ]
  },
  {
   "cell_type": "code",
   "execution_count": null,
   "metadata": {},
   "outputs": [],
   "source": []
  }
 ],
 "metadata": {
  "kernelspec": {
   "display_name": "Python 3",
   "language": "python",
   "name": "python3"
  },
  "language_info": {
   "codemirror_mode": {
    "name": "ipython",
    "version": 3
   },
   "file_extension": ".py",
   "mimetype": "text/x-python",
   "name": "python",
   "nbconvert_exporter": "python",
   "pygments_lexer": "ipython3",
   "version": "3.7.4"
  }
 },
 "nbformat": 4,
 "nbformat_minor": 2
}
