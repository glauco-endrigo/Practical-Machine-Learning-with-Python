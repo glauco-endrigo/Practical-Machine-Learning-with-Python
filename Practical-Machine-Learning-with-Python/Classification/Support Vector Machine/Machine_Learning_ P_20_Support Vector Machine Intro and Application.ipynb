{
 "cells": [
  {
   "cell_type": "markdown",
   "metadata": {},
   "source": [
    "#  Practical Machine Learning with Python from  the youtube channel sentdex <br />\n",
    "\n",
    "\"The goal is to break it down so much that it is panfully simple \"\n",
    "\n",
    "\n",
    "#### Episode:\n",
    "\n",
    "\n",
    "* [Support Vector Machine Intro and Application - Practical Machine Learning Tutorial with Python p.20:](https://www.youtube.com/watch?v=mA5nwGoRAOo&list=PLQVvvaa0QuDfKTOs3Keq_kaG2P55YRn5v&index=20)\n"
   ]
  },
  {
   "cell_type": "markdown",
   "metadata": {},
   "source": [
    "#### Objective: \n",
    "\n",
    "Learn about Practical Machine Learning with Python from Scratch with Python .\n",
    "\n"
   ]
  },
  {
   "cell_type": "markdown",
   "metadata": {},
   "source": [
    "#### Introduction: \n",
    "The purpuse is to know how Machine Learning works at a very deep level, because trying to solve more complex problems is gonna require a deep understand of how things actually work.\n",
    "We are gonna be doing this buy covering a variety of algorithms, so first we are gonna be covering regression when we are going to be movingitno classification with knearst-neighbors and support vector machines and then we are going to get into clustering with flat clustering, hierarchical clustering and then finally we will be getting  into deep learning with neural networks \n",
    "\n",
    "In each of the major algorithms, we are gonna cover theory, aplicattion and then we are gonna dive in deep into the inner workings of each of them"
   ]
  },
  {
   "cell_type": "markdown",
   "metadata": {},
   "source": [
    "####  Support Vector Machine\n",
    "\n",
    "\n",
    "The support vector Machine is what is called a binary classifier, so it separetes only into \n",
    "to groups at a time. These two groups are denoted as positive or negative.The objective of \n",
    "the svm is to find the best separeting hyperplane which is also refered  to as your decision boundary(that is why ideally we want it to be agaist linear data). And then we can classify new data points.\n"
   ]
  },
  {
   "cell_type": "markdown",
   "metadata": {},
   "source": [
    " "
   ]
  },
  {
   "cell_type": "code",
   "execution_count": 3,
   "metadata": {},
   "outputs": [
    {
     "name": "stdout",
     "output_type": "stream",
     "text": [
      "0.9357142857142857\n",
      "2\n",
      "[2 2]\n"
     ]
    },
    {
     "name": "stderr",
     "output_type": "stream",
     "text": [
      "C:\\Users\\Paulo\\Anaconda3\\lib\\site-packages\\sklearn\\svm\\base.py:193: FutureWarning: The default value of gamma will change from 'auto' to 'scale' in version 0.22 to account better for unscaled features. Set gamma explicitly to 'auto' or 'scale' to avoid this warning.\n",
      "  \"avoid this warning.\", FutureWarning)\n"
     ]
    }
   ],
   "source": [
    "import numpy as np\n",
    "import pandas as pd\n",
    "\n",
    "from sklearn.model_selection import train_test_split\n",
    "from sklearn import neighbors, svm\n",
    "  \n",
    "df = pd.read_csv('breast-cancer-wisconsin.data')\n",
    "df.replace(\"?\",-99999, inplace = True) ## Now we will see how different svm handles outlies as opposed toK Nearest Neighbors\n",
    "\n",
    "df.drop(['id'],1, inplace = True )\n",
    "\n",
    "X = np.array(df.drop(['clas'],1 )) # features \n",
    "y = np.array(df['clas']) # label \n",
    "\n",
    "X_train, X_test, y_train, y_test = train_test_split(X,y, test_size= 0.2) \n",
    "clf =  svm.SVC()\n",
    "clf.fit(X_train,y_train)\n",
    "accuracy  = clf.score(X_test,y_test) \n",
    "print(accuracy)\n",
    "ex_measures = np.array([[4,2,1,1,1,2,3,2,1],[4,2,2,3,1,2,3,2,1]])\n",
    "val  = len(ex_measures)\n",
    "print(val)\n",
    "ex_measures = ex_measures.reshape(val,-1)\n",
    "prediction = clf.predict(ex_measures)\n",
    "print(prediction)\n"
   ]
  },
  {
   "cell_type": "code",
   "execution_count": null,
   "metadata": {},
   "outputs": [],
   "source": []
  }
 ],
 "metadata": {
  "kernelspec": {
   "display_name": "Python 3",
   "language": "python",
   "name": "python3"
  },
  "language_info": {
   "codemirror_mode": {
    "name": "ipython",
    "version": 3
   },
   "file_extension": ".py",
   "mimetype": "text/x-python",
   "name": "python",
   "nbconvert_exporter": "python",
   "pygments_lexer": "ipython3",
   "version": "3.7.4"
  }
 },
 "nbformat": 4,
 "nbformat_minor": 2
}
