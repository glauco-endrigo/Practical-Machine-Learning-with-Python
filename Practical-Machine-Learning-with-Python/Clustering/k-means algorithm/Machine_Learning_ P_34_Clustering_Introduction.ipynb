{
 "cells": [
  {
   "cell_type": "markdown",
   "metadata": {},
   "source": [
    "#  Practical Machine Learning with Python from  the youtube channel sentdex <br />\n",
    "\n",
    "\"The goal is to break it down so much that it is panfully simple \"\n",
    "\n",
    "\n",
    "#### Episode:\n",
    "\n",
    "\n",
    "* [Clustering Introduction - Practical Machine Learning Tutorial with Python p.34:](https://www.youtube.com/watch?v=ZueoXMgCd1c&list=PLQVvvaa0QuDfKTOs3Keq_kaG2P55YRn5v&index=34)\n"
   ]
  },
  {
   "cell_type": "markdown",
   "metadata": {},
   "source": [
    "#### Objective: \n",
    "\n",
    "Learn about Practical Machine Learning with Python from Scratch with Python .\n",
    "\n"
   ]
  },
  {
   "cell_type": "code",
   "execution_count": null,
   "metadata": {},
   "outputs": [],
   "source": []
  },
  {
   "cell_type": "markdown",
   "metadata": {},
   "source": [
    "#### Introduction: \n",
    "Up until this point, every thing that we've covered is known as supervised ML, which means we decide \n",
    "what the classes of the feature sets are. With unsupervised ML the our role begins to be removed.\n",
    "We are gonna be covering clustering, which comes in two major forms:\n",
    "* Flat Clustering: You define the nº of clusters \n",
    "* Hierarchical  Clustering:The machine choose  the nº of clusters\n",
    "With both forms of clustering, the machine is simply given a data set(feature sets), and then the machine itself is going to search fo groups or clusters.\n",
    "The fist one  that we are going to be covering is k-means algorithm"
   ]
  },
  {
   "cell_type": "markdown",
   "metadata": {},
   "source": [
    "#### k-means algorithm"
   ]
  },
  {
   "cell_type": "code",
   "execution_count": 5,
   "metadata": {},
   "outputs": [
    {
     "name": "stdout",
     "output_type": "stream",
     "text": [
      "[0 0 1 1 0 1]\n"
     ]
    },
    {
     "data": {
      "image/png": "[encoded data removed]",
      "text/plain": [
       "<Figure size 432x288 with 1 Axes>"
      ]
     },
     "metadata": {},
     "output_type": "display_data"
    }
   ],
   "source": [
    "%matplotlib inline \n",
    "import matplotlib.pyplot as plt\n",
    "from matplotlib import style\n",
    "import numpy as np\n",
    "from sklearn.cluster import KMeans\n",
    "style.use('ggplot')\n",
    "\n",
    "X = np.array([[1, 2]\n",
    "            ,[1.5, 1.8]\n",
    "            ,[5, 8]\n",
    "            ,[8, 8]\n",
    "            ,[1, 0.6]\n",
    "            ,[9, 11]])\n",
    "\n",
    "\n",
    "#plt.scatter(X[:, 0],X[:, 1], s=150, linewidths = 5, zorder = 10)\n",
    "#plt.show()\n",
    "\n",
    "clf = KMeans(n_clusters=2)\n",
    "clf.fit(X)\n",
    "\n",
    "centroids = clf.cluster_centers_\n",
    "labels = clf.labels_\n",
    "print(labels)\n",
    "\n",
    "\n",
    "colors = [\"g.\",\"r.\",\"c.\",\"y.\"]\n",
    "for i in range(len(X)):\n",
    "    plt.plot(X[i][0], X[i][1], colors[labels[i]], markersize = 10)\n",
    "plt.scatter(centroids[:, 0],centroids[:, 1], marker = \"x\", s=150, linewidths = 5)\n",
    "plt.show()"
   ]
  },
  {
   "cell_type": "code",
   "execution_count": null,
   "metadata": {},
   "outputs": [],
   "source": []
  }
 ],
 "metadata": {
  "kernelspec": {
   "display_name": "Python 3",
   "language": "python",
   "name": "python3"
  },
  "language_info": {
   "codemirror_mode": {
    "name": "ipython",
    "version": 3
   },
   "file_extension": ".py",
   "mimetype": "text/x-python",
   "name": "python",
   "nbconvert_exporter": "python",
   "pygments_lexer": "ipython3",
   "version": "3.7.4"
  }
 },
 "nbformat": 4,
 "nbformat_minor": 2
}
